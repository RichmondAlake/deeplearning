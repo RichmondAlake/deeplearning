{
 "cells": [
  {
   "cell_type": "code",
   "execution_count": 8,
   "metadata": {},
   "outputs": [],
   "source": [
    "import os, shutil\n",
    "\n",
    "original_dataset_dir = '/Users/Richmond/Desktop/dataset/train'\n",
    "base_dir = '/Users/Richmond/Desktop/dataset/cats_and_dogs_small'\n",
    "os.mkdir(base_dir)\n",
    "\n",
    "train_dir = os.path.join(base_dir, 'train')\n",
    "os.mkdir(train_dir)\n",
    "validation_dir = os.path.join(base_dir, 'validation')\n",
    "os.mkdir(validation_dir)\n",
    "test_dir = os.path.join(base_dir, 'test')\n",
    "os.mkdir(test_dir)\n",
    "\n",
    "train_cats_dir = os.path.join(train_dir, 'cats')\n",
    "os.mkdir(train_cats_dir)\n",
    "\n",
    "train_dogs_dir = os.path.join(train_dir, 'dogs')\n",
    "os.mkdir(train_dogs_dir)\n",
    "\n",
    "validation_cats_dir = os.path.join(validation_dir, 'cats')\n",
    "os.mkdir(validation_cats_dir)\n",
    "\n",
    "validation_dogs_dir = os.path.join(validation_dir, 'dogs')\n",
    "os.mkdir(validation_dogs_dir)\n",
    "\n",
    "test_cats_dir = os.path.join(test_dir, 'cats')\n",
    "os.mkdir(test_cats_dir)\n",
    "\n",
    "test_dogs_dir = os.path.join(test_dir, 'dogs')\n",
    "os.mkdir(test_dogs_dir)\n",
    "\n",
    "fnames = ['cat.{}.jpg'.format(i) for i in range(1000)]\n",
    "for fname in fnames:\n",
    "    src = os.path.join(original_dataset_dir, fname)\n",
    "    dst = os.path.join(train_cats_dir, fname)\n",
    "    shutil.copyfile(src, dst)\n",
    "\n",
    "fnames = ['cat.{}.jpg'.format(i) for i in range(1000, 1500)]\n",
    "for fname in fnames:\n",
    "    src = os.path.join(original_dataset_dir, fname)\n",
    "    dst = os.path.join(train_cats_dir, fname)\n",
    "    shutil.copyfile(src, dst)\n",
    "    \n",
    "fnames = ['cat.{}.jpg'.format(i) for i in range(1500, 2000)]\n",
    "for fname in fnames:\n",
    "    src = os.path.join(original_dataset_dir, fname)\n",
    "    dst = os.path.join(validation_cats_dir, fname)\n",
    "    shutil.copyfile(src, dst)\n",
    "    \n",
    "fnames = ['dog.{}.jpg'.format(i) for i in range(1000)]\n",
    "for fname in fnames:\n",
    "    src = os.path.join(original_dataset_dir, fname)\n",
    "    dst = os.path.join(train_dogs_dir, fname)\n",
    "    shutil.copyfile(src, dst)\n",
    "\n",
    "fnames = ['dog.{}.jpg'.format(i) for i in range(1000, 1500)]\n",
    "for fname in fnames:\n",
    "    src = os.path.join(original_dataset_dir, fname)\n",
    "    dst = os.path.join(validation_dogs_dir, fname)\n",
    "    shutil.copyfile(src, dst)\n",
    "    \n",
    "fnames = ['dog.{}.jpg'.format(i) for i in range(1500, 2000)]\n",
    "for fname in fnames:\n",
    "    src = os.path.join(original_dataset_dir, fname)\n",
    "    dst = os.path.join(test_dogs_dir, fname)\n",
    "    shutil.copyfile(src, dst)"
   ]
  },
  {
   "cell_type": "code",
   "execution_count": 9,
   "metadata": {},
   "outputs": [
    {
     "name": "stdout",
     "output_type": "stream",
     "text": [
      "_________________________________________________________________\n",
      "Layer (type)                 Output Shape              Param #   \n",
      "=================================================================\n",
      "conv2d_5 (Conv2D)            (None, 148, 148, 32)      896       \n",
      "_________________________________________________________________\n",
      "max_pooling2d_5 (MaxPooling2 (None, 74, 74, 32)        0         \n",
      "_________________________________________________________________\n",
      "conv2d_6 (Conv2D)            (None, 72, 72, 64)        18496     \n",
      "_________________________________________________________________\n",
      "max_pooling2d_6 (MaxPooling2 (None, 36, 36, 64)        0         \n",
      "_________________________________________________________________\n",
      "conv2d_7 (Conv2D)            (None, 34, 34, 128)       73856     \n",
      "_________________________________________________________________\n",
      "max_pooling2d_7 (MaxPooling2 (None, 17, 17, 128)       0         \n",
      "_________________________________________________________________\n",
      "conv2d_8 (Conv2D)            (None, 15, 15, 128)       147584    \n",
      "_________________________________________________________________\n",
      "max_pooling2d_8 (MaxPooling2 (None, 7, 7, 128)         0         \n",
      "_________________________________________________________________\n",
      "flatten_2 (Flatten)          (None, 6272)              0         \n",
      "_________________________________________________________________\n",
      "dense_3 (Dense)              (None, 512)               3211776   \n",
      "_________________________________________________________________\n",
      "dense_4 (Dense)              (None, 1)                 513       \n",
      "=================================================================\n",
      "Total params: 3,453,121\n",
      "Trainable params: 3,453,121\n",
      "Non-trainable params: 0\n",
      "_________________________________________________________________\n"
     ]
    }
   ],
   "source": [
    "from keras import models\n",
    "from keras import layers\n",
    "\n",
    "model = models.Sequential()\n",
    "model.add(layers.Conv2D(32, (3,3), activation='relu', input_shape=(150, 150, 3)))\n",
    "model.add(layers.MaxPooling2D(2,2))\n",
    "model.add(layers.Conv2D(64, (3,3), activation='relu'))\n",
    "model.add(layers.MaxPooling2D(2,2))\n",
    "model.add(layers.Conv2D(128, (3,3), activation='relu'))\n",
    "model.add(layers.MaxPooling2D(2,2))\n",
    "model.add(layers.Conv2D(128, (3,3), activation='relu'))\n",
    "model.add(layers.MaxPooling2D(2,2))\n",
    "model.add(layers.Flatten())\n",
    "model.add(layers.Dense(512, activation='relu'))\n",
    "model.add(layers.Dense(1, activation='sigmoid'))\n",
    "\n",
    "model.summary()"
   ]
  },
  {
   "cell_type": "code",
   "execution_count": 12,
   "metadata": {},
   "outputs": [
    {
     "name": "stderr",
     "output_type": "stream",
     "text": [
      "W0718 17:34:39.679182 18392 deprecation_wrapper.py:119] From C:\\Users\\Richmond\\Anaconda3\\lib\\site-packages\\keras\\optimizers.py:790: The name tf.train.Optimizer is deprecated. Please use tf.compat.v1.train.Optimizer instead.\n",
      "\n",
      "W0718 17:34:39.695622 18392 deprecation_wrapper.py:119] From C:\\Users\\Richmond\\Anaconda3\\lib\\site-packages\\keras\\backend\\tensorflow_backend.py:3376: The name tf.log is deprecated. Please use tf.math.log instead.\n",
      "\n",
      "W0718 17:34:39.708551 18392 deprecation.py:323] From C:\\Users\\Richmond\\Anaconda3\\lib\\site-packages\\tensorflow\\python\\ops\\nn_impl.py:180: add_dispatch_support.<locals>.wrapper (from tensorflow.python.ops.array_ops) is deprecated and will be removed in a future version.\n",
      "Instructions for updating:\n",
      "Use tf.where in 2.0, which has the same broadcast rule as np.where\n"
     ]
    }
   ],
   "source": [
    "from keras import optimizers\n",
    "\n",
    "model.compile(loss='binary_crossentropy', optimizer=optimizers.RMSprop(lr=1e-4), metrics=['acc'])"
   ]
  },
  {
   "cell_type": "code",
   "execution_count": 15,
   "metadata": {},
   "outputs": [
    {
     "name": "stdout",
     "output_type": "stream",
     "text": [
      "Found 2500 images belonging to 2 classes.\n",
      "Found 1000 images belonging to 2 classes.\n"
     ]
    }
   ],
   "source": [
    "from keras.preprocessing.image import ImageDataGenerator\n",
    "\n",
    "train_datagen = ImageDataGenerator(rescale=1./255)\n",
    "test_datagen = ImageDataGenerator(rescale=1./255)\n",
    "\n",
    "train_generator = train_datagen.flow_from_directory(train_dir, target_size=(150,150), batch_size=20, class_mode='binary')\n",
    "validation_generator = train_datagen.flow_from_directory(validation_dir, target_size=(150,150), batch_size=20, class_mode='binary')\n"
   ]
  },
  {
   "cell_type": "code",
   "execution_count": 16,
   "metadata": {},
   "outputs": [
    {
     "name": "stderr",
     "output_type": "stream",
     "text": [
      "W0718 17:36:16.953715 18392 deprecation_wrapper.py:119] From C:\\Users\\Richmond\\Anaconda3\\lib\\site-packages\\keras\\backend\\tensorflow_backend.py:986: The name tf.assign_add is deprecated. Please use tf.compat.v1.assign_add instead.\n",
      "\n"
     ]
    },
    {
     "name": "stdout",
     "output_type": "stream",
     "text": [
      "Epoch 1/30\n",
      "100/100 [==============================] - 114s 1s/step - loss: 0.6747 - acc: 0.5960 - val_loss: 0.7068 - val_acc: 0.5170\n",
      "Epoch 2/30\n",
      "100/100 [==============================] - 106s 1s/step - loss: 0.6454 - acc: 0.6355 - val_loss: 0.6639 - val_acc: 0.5970\n",
      "Epoch 3/30\n",
      "100/100 [==============================] - 104s 1s/step - loss: 0.6082 - acc: 0.6890 - val_loss: 0.6548 - val_acc: 0.6170\n",
      "Epoch 4/30\n",
      "100/100 [==============================] - 104s 1s/step - loss: 0.5736 - acc: 0.7045 - val_loss: 0.5935 - val_acc: 0.6980\n",
      "Epoch 5/30\n",
      "100/100 [==============================] - 104s 1s/step - loss: 0.5451 - acc: 0.7275 - val_loss: 0.5722 - val_acc: 0.7010\n",
      "Epoch 6/30\n",
      "100/100 [==============================] - 105s 1s/step - loss: 0.5139 - acc: 0.7565 - val_loss: 0.6669 - val_acc: 0.6590\n",
      "Epoch 7/30\n",
      "100/100 [==============================] - 105s 1s/step - loss: 0.5167 - acc: 0.7510 - val_loss: 0.6143 - val_acc: 0.6730\n",
      "Epoch 8/30\n",
      "100/100 [==============================] - 105s 1s/step - loss: 0.4731 - acc: 0.7785 - val_loss: 0.5831 - val_acc: 0.7170\n",
      "Epoch 9/30\n",
      "100/100 [==============================] - 104s 1s/step - loss: 0.4625 - acc: 0.7780 - val_loss: 0.5632 - val_acc: 0.7120\n",
      "Epoch 10/30\n",
      "100/100 [==============================] - 104s 1s/step - loss: 0.4510 - acc: 0.7900 - val_loss: 0.5489 - val_acc: 0.7260\n",
      "Epoch 11/30\n",
      "100/100 [==============================] - 103s 1s/step - loss: 0.4130 - acc: 0.8175 - val_loss: 0.5511 - val_acc: 0.7320\n",
      "Epoch 12/30\n",
      "100/100 [==============================] - 105s 1s/step - loss: 0.4101 - acc: 0.8040 - val_loss: 0.5284 - val_acc: 0.7430\n",
      "Epoch 13/30\n",
      "100/100 [==============================] - 104s 1s/step - loss: 0.4061 - acc: 0.8250 - val_loss: 0.5425 - val_acc: 0.7320\n",
      "Epoch 14/30\n",
      "100/100 [==============================] - 104s 1s/step - loss: 0.3755 - acc: 0.8400 - val_loss: 0.5990 - val_acc: 0.7150\n",
      "Epoch 15/30\n",
      "100/100 [==============================] - 105s 1s/step - loss: 0.3602 - acc: 0.8320 - val_loss: 0.5238 - val_acc: 0.7450\n",
      "Epoch 16/30\n",
      "100/100 [==============================] - 105s 1s/step - loss: 0.3255 - acc: 0.8665 - val_loss: 0.5896 - val_acc: 0.7380\n",
      "Epoch 17/30\n",
      "100/100 [==============================] - 105s 1s/step - loss: 0.3249 - acc: 0.8530 - val_loss: 0.5730 - val_acc: 0.7450\n",
      "Epoch 18/30\n",
      "100/100 [==============================] - 104s 1s/step - loss: 0.3107 - acc: 0.8700 - val_loss: 0.5580 - val_acc: 0.7490\n",
      "Epoch 19/30\n",
      "100/100 [==============================] - 107s 1s/step - loss: 0.2847 - acc: 0.8800 - val_loss: 0.6180 - val_acc: 0.7320\n",
      "Epoch 20/30\n",
      "100/100 [==============================] - 105s 1s/step - loss: 0.2760 - acc: 0.8875 - val_loss: 0.6336 - val_acc: 0.7260\n",
      "Epoch 21/30\n",
      "100/100 [==============================] - 105s 1s/step - loss: 0.2582 - acc: 0.8970 - val_loss: 0.7049 - val_acc: 0.7040\n",
      "Epoch 22/30\n",
      "100/100 [==============================] - 106s 1s/step - loss: 0.2355 - acc: 0.9095 - val_loss: 0.5664 - val_acc: 0.7470\n",
      "Epoch 23/30\n",
      "100/100 [==============================] - 105s 1s/step - loss: 0.2315 - acc: 0.9110 - val_loss: 0.5830 - val_acc: 0.7530\n",
      "Epoch 24/30\n",
      "100/100 [==============================] - 104s 1s/step - loss: 0.1959 - acc: 0.9310 - val_loss: 0.5942 - val_acc: 0.7560\n",
      "Epoch 25/30\n",
      "100/100 [==============================] - 104s 1s/step - loss: 0.2016 - acc: 0.9255 - val_loss: 0.5754 - val_acc: 0.7570\n",
      "Epoch 26/30\n",
      "100/100 [==============================] - 108s 1s/step - loss: 0.1792 - acc: 0.9335 - val_loss: 0.5900 - val_acc: 0.7550\n",
      "Epoch 27/30\n",
      "100/100 [==============================] - 104s 1s/step - loss: 0.1531 - acc: 0.9410 - val_loss: 0.7366 - val_acc: 0.7240\n",
      "Epoch 28/30\n",
      "100/100 [==============================] - 103s 1s/step - loss: 0.1449 - acc: 0.9475 - val_loss: 0.6439 - val_acc: 0.7570\n",
      "Epoch 29/30\n",
      "100/100 [==============================] - 106s 1s/step - loss: 0.1337 - acc: 0.9515 - val_loss: 0.7498 - val_acc: 0.7340\n",
      "Epoch 30/30\n",
      "100/100 [==============================] - 105s 1s/step - loss: 0.1260 - acc: 0.9570 - val_loss: 0.7068 - val_acc: 0.7430\n"
     ]
    }
   ],
   "source": [
    "history = model.fit_generator(train_generator, steps_per_epoch=100, epochs=30, validation_data=validation_generator, validation_steps=50)"
   ]
  },
  {
   "cell_type": "code",
   "execution_count": 17,
   "metadata": {},
   "outputs": [],
   "source": [
    "model.save('cats_and_dogs_small_1.h5')"
   ]
  },
  {
   "cell_type": "code",
   "execution_count": 21,
   "metadata": {},
   "outputs": [
    {
     "data": {
      "image/png": "[encoded data removed]",
      "text/plain": [
       "<Figure size 432x288 with 1 Axes>"
      ]
     },
     "metadata": {
      "needs_background": "light"
     },
     "output_type": "display_data"
    },
    {
     "data": {
      "image/png": "[encoded data removed]",
      "text/plain": [
       "<Figure size 432x288 with 1 Axes>"
      ]
     },
     "metadata": {
      "needs_background": "light"
     },
     "output_type": "display_data"
    }
   ],
   "source": [
    "import matplotlib.pyplot as plt\n",
    "\n",
    "acc = history.history['acc']\n",
    "val_acc = history.history['val_acc']\n",
    "loss = history.history['loss']\n",
    "val_loss = history.history['val_loss']\n",
    "\n",
    "epochs = range(1, len(acc) + 1)\n",
    "plt.plot(epochs, acc, 'bo', label='Training Accuracy')\n",
    "plt.plot(epochs, val_acc, 'o', label=\"Validation Accuracy\")\n",
    "plt.title('Training and Validation Accuracy')\n",
    "plt.legend()\n",
    "\n",
    "plt.figure()\n",
    "\n",
    "plt.plot(epochs, loss, 'bo', label='Training Loss')\n",
    "plt.plot(epochs, val_loss, 'o', label=\"Validation Loss\")\n",
    "plt.title('Training and Validation Loss')\n",
    "plt.legend()\n",
    "\n",
    "plt.show()"
   ]
  },
  {
   "cell_type": "code",
   "execution_count": null,
   "metadata": {},
   "outputs": [],
   "source": []
  }
 ],
 "metadata": {
  "kernelspec": {
   "display_name": "Python 3",
   "language": "python",
   "name": "python3"
  },
  "language_info": {
   "codemirror_mode": {
    "name": "ipython",
    "version": 3
   },
   "file_extension": ".py",
   "mimetype": "text/x-python",
   "name": "python",
   "nbconvert_exporter": "python",
   "pygments_lexer": "ipython3",
   "version": "3.7.3"
  }
 },
 "nbformat": 4,
 "nbformat_minor": 2
}
